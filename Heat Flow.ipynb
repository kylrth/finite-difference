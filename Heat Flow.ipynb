{
 "cells": [
  {
   "cell_type": "markdown",
   "metadata": {},
   "source": [
    "## Heat flow equation\n",
    "\n",
    "We create a finite difference solution to the following system using a Crank-Nicholson finite difference scheme:\n",
    "\n",
    "$u_t=u_{xx},\\quad x\\in[a,b],\\,t\\in(0,T]$\n",
    "\n",
    "$u(x,0)=u_0(x)$\n",
    "\n",
    "$h_a(t)=c_a(t)u(a,t)+d_a(t)u_x(a,t)$\n",
    "\n",
    "$h_b(t)=c_b(t)u(b,t)+d_b(t)u_x(b,t)$."
   ]
  },
  {
   "cell_type": "code",
   "execution_count": null,
   "metadata": {},
   "outputs": [],
   "source": [
    "def heat_equation(a, b, T, N_x, N_t, u_0, c_a, d_a, h_a, c_b, d_b, h_b):\n",
    "def crank_nicolson(nu, k, h, f, x, u_0t, u_1t):\n",
    "    \"\"\"Performs the Crank Nicolson method for the PDE from the PDF, with coefficients specified as parameters.\"\"\"\n",
    "    \n",
    "    lamby = nu * k / h / h / 2\n",
    "    \n",
    "    x = np.linspace(a, b, N_x)\n",
    "    \n",
    "    # construct A\n",
    "    A = np.zeros((len(x) - 1, len(x) - 1))\n",
    "    np.fill_diagonal(A, 1 - 2 * lamby)\n",
    "    np.fill_diagonal(A[1:], lamby)\n",
    "    np.fill_diagonal(A[:,1:], lamby)\n",
    "    \n",
    "    # construct B\n",
    "    B = np.zeros((len(x), len(x)))\n",
    "    np.fill_diagonal(B, 1 + 2 * lamby)\n",
    "    np.fill_diagonal(B[1:], -lamby)\n",
    "    np.fill_diagonal(B[:,1:], -lamby)\n",
    "    \n",
    "    # modify B to leave boundary conditions intact\n",
    "    B[0, 1] = 0\n",
    "    B[0, 0] = 1\n",
    "    B[-1, -2] = 0\n",
    "    B[-1, -1] = 1\n",
    "    \n",
    "    # get B's inverse\n",
    "    B_inv = np.linalg.inv(B)\n",
    "    \n",
    "    # get B^{-1}A\n",
    "    mult = np.dot(B_inv, A)\n",
    "    \n",
    "    # set up initial condition for t=0\n",
    "    f_x0 = f(x)\n",
    "    f_x0[0] = u_0t\n",
    "    f_x0[-1] = u_1t\n",
    "    \n",
    "    # temporal iteration\n",
    "    yous = [f_x0]\n",
    "    \n",
    "    for i in range(int(1 / k)):\n",
    "        yous.append(np.dot(mult, yous[-1]))\n",
    "    \n",
    "    return yous"
   ]
  }
 ],
 "metadata": {
  "kernelspec": {
   "display_name": "Python 3",
   "language": "python",
   "name": "python3"
  },
  "language_info": {
   "codemirror_mode": {
    "name": "ipython",
    "version": 3
   },
   "file_extension": ".py",
   "mimetype": "text/x-python",
   "name": "python",
   "nbconvert_exporter": "python",
   "pygments_lexer": "ipython3",
   "version": "3.6.6"
  }
 },
 "nbformat": 4,
 "nbformat_minor": 2
}
